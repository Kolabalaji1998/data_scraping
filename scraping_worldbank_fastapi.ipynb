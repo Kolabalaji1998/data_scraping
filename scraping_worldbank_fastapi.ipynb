{
 "cells": [
  {
   "cell_type": "markdown",
   "id": "bf2a2502",
   "metadata": {},
   "source": [
    "# Web Scraping and FastAPI Setup for Country Data from World Bank"
   ]
  },
  {
   "cell_type": "code",
   "execution_count": null,
   "id": "698b8243",
   "metadata": {},
   "outputs": [],
   "source": [
    "!pip install requests beautifulsoup4 selenium pandas fastapi uvicorn"
   ]
  },
  {
   "cell_type": "markdown",
   "id": "121848d3",
   "metadata": {},
   "source": [
    "## Step 1: Scraping the World Bank Website using Selenium"
   ]
  },
  {
   "cell_type": "code",
   "execution_count": null,
   "id": "0708ef1c",
   "metadata": {},
   "outputs": [],
   "source": [
    "\n",
    "import time\n",
    "import pandas as pd\n",
    "from selenium import webdriver\n",
    "from bs4 import BeautifulSoup\n",
    "\n",
    "# Selenium WebDriver Setup (Make sure to download the correct chromedriver for your Chrome version)\n",
    "options = webdriver.ChromeOptions()\n",
    "options.add_argument('--headless')  # To run the browser in headless mode\n",
    "driver = webdriver.Chrome(options=options)\n",
    "\n",
    "# Open the World Bank's country data page\n",
    "url = 'https://data.worldbank.org/country'\n",
    "driver.get(url)\n",
    "time.sleep(5)  # Let the page load\n",
    "\n",
    "# Parse the loaded page with BeautifulSoup\n",
    "soup = BeautifulSoup(driver.page_source, 'html.parser')\n",
    "\n",
    "# Extract country names and other relevant information\n",
    "countries_data = []\n",
    "\n",
    "# Assuming country names are inside certain tags (you might need to inspect the HTML structure)\n",
    "for country_section in soup.find_all('div', class_='country-data'):\n",
    "    country_name = country_section.find('h3').get_text(strip=True)\n",
    "    \n",
    "    # You would similarly scrape other data points if available\n",
    "    gdp = country_section.find('span', class_='gdp').get_text(strip=True) if country_section.find('span', class_='gdp') else \"N/A\"\n",
    "    population = country_section.find('span', class_='population').get_text(strip=True) if country_section.find('span', class_='population') else \"N/A\"\n",
    "    unemployment_rate = country_section.find('span', class_='unemployment').get_text(strip=True) if country_section.find('span', class_='unemployment') else \"N/A\"\n",
    "    \n",
    "    countries_data.append({\n",
    "        'name': country_name,\n",
    "        'gdp': gdp,\n",
    "        'population': population,\n",
    "        'unemployment_rate': unemployment_rate\n",
    "    })\n",
    "\n",
    "# Convert data to a DataFrame or store in a CSV\n",
    "df = pd.DataFrame(countries_data)\n",
    "df.to_csv('countries_data.csv', index=False)\n",
    "\n",
    "# Close the browser\n",
    "driver.quit()\n",
    "    "
   ]
  },
  {
   "cell_type": "markdown",
   "id": "6a749174",
   "metadata": {},
   "source": [
    "## Step 2: Setting up FastAPI to Serve Scraped Data"
   ]
  },
  {
   "cell_type": "code",
   "execution_count": null,
   "id": "ce59f9e3",
   "metadata": {},
   "outputs": [],
   "source": [
    "\n",
    "from fastapi import FastAPI, HTTPException\n",
    "import pandas as pd\n",
    "\n",
    "# Load the scraped data from CSV\n",
    "df = pd.read_csv('countries_data.csv')\n",
    "\n",
    "# Convert DataFrame to a list of dictionaries\n",
    "countries_data = df.to_dict(orient='records')\n",
    "\n",
    "app = FastAPI()\n",
    "\n",
    "@app.get(\"/\")\n",
    "def read_root():\n",
    "    return {\"message\": \"Welcome to the World Bank Country API\"}\n",
    "\n",
    "# Endpoint to get data for a specific country\n",
    "@app.get(\"/country/{country_name}\")\n",
    "def get_country_data(country_name: str):\n",
    "    # Filter for the country in the dataset\n",
    "    country = next((country for country in countries_data if country[\"name\"].lower() == country_name.lower()), None)\n",
    "    if country is None:\n",
    "        raise HTTPException(status_code=404, detail=\"Country not found\")\n",
    "    return country\n",
    "\n",
    "# To run the FastAPI server, use Uvicorn in terminal:\n",
    "# uvicorn your_script_name:app --reload\n",
    "    "
   ]
  }
 ],
 "metadata": {},
 "nbformat": 4,
 "nbformat_minor": 5
}
